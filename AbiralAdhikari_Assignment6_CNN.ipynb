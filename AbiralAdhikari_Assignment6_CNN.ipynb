{
 "cells": [
  {
   "cell_type": "markdown",
   "metadata": {},
   "source": [
    "<h1> Implementing a CNN in a TensorFlow</h1>\n"
   ]
  },
  {
   "cell_type": "code",
   "execution_count": 8,
   "metadata": {},
   "outputs": [],
   "source": [
    "import warnings\n",
    "warnings.filterwarnings('ignore')\n",
    "import numpy as np\n",
    "import tensorflow as tf\n",
    "# from tensorflow.examples.tutorials.mnist import input_data\n",
    "# tf.logging.set_verbosity(tf.logging.ERROR)s\n",
    "import matplotlib.pyplot as plt\n",
    "tf.compat.v1.disable_eager_execution()\n",
    "%matplotlib inline"
   ]
  },
  {
   "cell_type": "code",
   "execution_count": 9,
   "metadata": {},
   "outputs": [],
   "source": [
    "# Load the MNIST dataset\n",
    "mnist = tf.keras.datasets.mnist\n",
    "(train_images, train_labels), (test_images, test_labels) = mnist.load_data()\n",
    "\n",
    "# Normalize the images to a range of 0 to 1\n",
    "train_images = train_images.astype('float32') / 255.0\n",
    "test_images = test_images.astype('float32') / 255.0"
   ]
  },
  {
   "cell_type": "code",
   "execution_count": 10,
   "metadata": {},
   "outputs": [],
   "source": [
    "def initialize_weights(shape):\n",
    " return tf.Variable(tf.truncated_normal(shape, stddev=0.1))\n",
    "\n",
    "def initialize_bias(shape):\n",
    " return tf.Variable(tf.constant(0.1, shape=shape))\n",
    "\n",
    "def convolution(x, W):\n",
    " return tf.nn.conv2d(x, W, strides=[1,1,1,1], padding='SAME')\n",
    "\n",
    "def max_pooling(x):\n",
    " return tf.nn.max_pool(x, ksize=[1,2,2,1], strides=[1,2,2,1], padding='SAME')\n",
    "\n",
    "X_ = tf.compat.v1.placeholder(tf.float32, [None, 784])\n",
    "X = tf.reshape(X_, [-1, 28, 28, 1])\n",
    "y = tf.compat.v1.placeholder(tf.float32, [None, 10])\n"
   ]
  },
  {
   "cell_type": "code",
   "execution_count": null,
   "metadata": {},
   "outputs": [],
   "source": [
    "W1 = initialize_weights([5,5,1,32])\n",
    "b1 = initialize_bias([32])\n",
    "conv1 = tf.compat.v1.nn.relu(convolution(X, W1) + b1)\n",
    "pool1 = max_pooling(conv1)\n",
    "\n",
    "W2 = initialize_weights([5,5,32,64])\n",
    "b2 = initialize_bias([64])\n",
    "conv2 = tf.compat.v1.nn.relu(convolution(pool1, W2) + b2)\n",
    "pool2 = max_pooling(conv2)\n",
    "\n",
    "flattened = tf.reshape(pool2, [-1, 7*7*64])\n",
    "W_fc = initialize_weights([7*7*64, 1024])\n",
    "b_fc = initialize_bias([1024])\n",
    "fc_output = tf.compat.v1.nn.relu(tf.compat.v1.matmul(flattened, W_fc) + b_fc)\n",
    "\n",
    "W_out = initialize_weights([1024, 10])\n",
    "b_out = initialize_bias([10])\n",
    "YHat = tf.compat.v1.nn.softmax(tf.compat.v1.matmul(fc_output, W_out) + b_out)"
   ]
  }
 ],
 "metadata": {
  "kernelspec": {
   "display_name": "env",
   "language": "python",
   "name": "python3"
  },
  "language_info": {
   "codemirror_mode": {
    "name": "ipython",
    "version": 3
   },
   "file_extension": ".py",
   "mimetype": "text/x-python",
   "name": "python",
   "nbconvert_exporter": "python",
   "pygments_lexer": "ipython3",
   "version": "3.11.9"
  }
 },
 "nbformat": 4,
 "nbformat_minor": 2
}
