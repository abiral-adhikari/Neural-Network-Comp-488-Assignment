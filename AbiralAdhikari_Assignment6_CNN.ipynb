{
 "cells": [
  {
   "cell_type": "markdown",
   "metadata": {},
   "source": [
    "<h1> Implementing a CNN in a TensorFlow</h1>\n"
   ]
  },
  {
   "cell_type": "code",
   "execution_count": 5,
   "metadata": {},
   "outputs": [],
   "source": [
    "import warnings\n",
    "warnings.filterwarnings('ignore')  \n",
    "\n",
    "import numpy as np\n",
    "import tensorflow as tf\n",
    "# from tensorflow.compat.v1.examples.tutorials.mnist import input_data\n",
    "# tf.logging.set_verbosity(tf.logging.ERROR)\n",
    "tf.compat.v1.disable_eager_execution()\n",
    "import matplotlib.pyplot as plt\n",
    "import pandas as pd\n",
    "import tensorflow_datasets\n",
    "%matplotlib inline"
   ]
  },
  {
   "cell_type": "code",
   "execution_count": 6,
   "metadata": {},
   "outputs": [],
   "source": [
    "mnist_data, info = tensorflow_datasets.load(\"mnist\", with_info=True, as_supervised=True)\n",
    "train=(mnist_data[\"train\"])\n",
    "# train_df = tensorflow_datasets.as_dataframe(mnist_data[\"train\"],info)"
   ]
  },
  {
   "cell_type": "code",
   "execution_count": 7,
   "metadata": {},
   "outputs": [],
   "source": [
    "def initialize_weights(shape):\n",
    " return tf.Variable(tf.compat.v1.truncated_normal(shape, stddev=0.1))\n",
    "\n",
    "def initialize_bias(shape):\n",
    " return tf.Variable(tf.compat.v1.constant(0.1, shape=shape))\n",
    "\n",
    "def convolution(x, W):\n",
    " return tf.nn.conv2d(x, W, strides=[1,1,1,1], padding='SAME')\n",
    "\n",
    "def max_pooling(x):\n",
    " return tf.nn.max_pool(x, ksize=[1,2,2,1], strides=[1,2,2,1], padding='SAME')\n",
    "\n",
    "def flatten_image(image, label):\n",
    "  image = tf.reshape(image, [-1])  # Flatten the image\n",
    "  return image, label\n",
    "\n",
    "def preprocess(image, label):\n",
    "    image = tf.cast(image, tf.float32) / 255.0 # Normalize the images to [0, 1]\n",
    "    image = tf.reshape(image, [-1])  # Flatten the image\n",
    "    label = tf.one_hot(label, depth=10)  # One-hot encode the labels\n",
    "    return image, label\n",
    "\n",
    "X_ = tf.compat.v1.placeholder(tf.float32, [None, 784])\n",
    "X = tf.reshape(X_, [-1, 28, 28, 1])\n",
    "y = tf.compat.v1.placeholder(tf.float32, [None, 10])\n",
    "\n",
    "\n"
   ]
  },
  {
   "cell_type": "code",
   "execution_count": 8,
   "metadata": {},
   "outputs": [],
   "source": [
    "W1 = initialize_weights([5,5,1,32])\n",
    "b1 = initialize_bias([32])\n",
    "conv1 = tf.compat.v1.nn.relu(convolution(X, W1) + b1)\n",
    "pool1 = max_pooling(conv1)\n",
    "\n",
    "W2 = initialize_weights([5,5,32,64])\n",
    "b2 = initialize_bias([64])\n",
    "conv2 = tf.compat.v1.nn.relu(convolution(pool1, W2) + b2)\n",
    "pool2 = max_pooling(conv2)\n",
    "\n",
    "flattened = tf.reshape(pool2, [-1, 7*7*64])\n",
    "W_fc = initialize_weights([7*7*64, 1024])\n",
    "b_fc = initialize_bias([1024])\n",
    "fc_output = tf.compat.v1.nn.relu(tf.compat.v1.matmul(flattened, W_fc) + b_fc)\n",
    "\n",
    "W_out = initialize_weights([1024, 10])\n",
    "b_out = initialize_bias([10])\n",
    "YHat = tf.compat.v1.nn.softmax(tf.compat.v1.matmul(fc_output, W_out) + b_out)"
   ]
  },
  {
   "cell_type": "code",
   "execution_count": 9,
   "metadata": {},
   "outputs": [
    {
     "name": "stdout",
     "output_type": "stream",
     "text": [
      "WARNING:tensorflow:From C:\\Users\\hp\\AppData\\Local\\Temp\\ipykernel_18316\\2121466912.py:2: The name tf.train.AdamOptimizer is deprecated. Please use tf.compat.v1.train.AdamOptimizer instead.\n",
      "\n"
     ]
    },
    {
     "name": "stderr",
     "output_type": "stream",
     "text": [
      "WARNING:tensorflow:From C:\\Users\\hp\\AppData\\Local\\Temp\\ipykernel_18316\\2121466912.py:2: The name tf.train.AdamOptimizer is deprecated. Please use tf.compat.v1.train.AdamOptimizer instead.\n",
      "\n"
     ]
    }
   ],
   "source": [
    "cross_entropy = -tf.compat.v1.reduce_sum(y*tf.compat.v1.log(YHat))\n",
    "optimizer = tf.compat.v1.train.AdamOptimizer(1e-4).minimize(cross_entropy)\n",
    "\n",
    "predicted_digit = tf.argmax(YHat, 1)\n",
    "actual_digit = tf.argmax(y, 1)\n",
    "\n",
    "correct_pred = tf.equal(predicted_digit,actual_digit)\n",
    "accuracy = tf.reduce_mean(tf.cast(correct_pred, tf.float32))"
   ]
  },
  {
   "cell_type": "code",
   "execution_count": 10,
   "metadata": {},
   "outputs": [],
   "source": [
    "\n",
    "# hyperparameters\n",
    "n_epochs =5\n",
    "batch_size = 200\n",
    "num_iterations = 60_000 // batch_size\n",
    "session = tf.compat.v1.Session()\n",
    "session.run(tf.compat.v1.global_variables_initializer())"
   ]
  },
  {
   "cell_type": "code",
   "execution_count": 11,
   "metadata": {},
   "outputs": [
    {
     "name": "stdout",
     "output_type": "stream",
     "text": [
      "WARNING:tensorflow:From C:\\Users\\hp\\AppData\\Local\\Temp\\ipykernel_18316\\3469123942.py:6: The name tf.data.make_initializable_iterator is deprecated. Please use tf.compat.v1.data.make_initializable_iterator instead.\n",
      "\n"
     ]
    },
    {
     "name": "stderr",
     "output_type": "stream",
     "text": [
      "WARNING:tensorflow:From C:\\Users\\hp\\AppData\\Local\\Temp\\ipykernel_18316\\3469123942.py:6: The name tf.data.make_initializable_iterator is deprecated. Please use tf.compat.v1.data.make_initializable_iterator instead.\n",
      "\n"
     ]
    },
    {
     "name": "stdout",
     "output_type": "stream",
     "text": [
      "Epoch: 0, Iteration: 0, Loss: 1031.868408203125, Accuracy: 0.054999999701976776\n",
      "Epoch: 0, Iteration: 100, Loss: 60.849952697753906, Accuracy: 0.9350000023841858\n",
      "Epoch: 0, Iteration: 200, Loss: 52.712860107421875, Accuracy: 0.9100000262260437\n",
      "Epoch: 1, Iteration: 0, Loss: 28.795434951782227, Accuracy: 0.9649999737739563\n",
      "Epoch: 1, Iteration: 100, Loss: 31.73971176147461, Accuracy: 0.949999988079071\n",
      "Epoch: 1, Iteration: 200, Loss: 29.020645141601562, Accuracy: 0.9549999833106995\n",
      "Epoch: 2, Iteration: 0, Loss: 18.195833206176758, Accuracy: 0.9700000286102295\n",
      "Epoch: 2, Iteration: 100, Loss: 21.854686737060547, Accuracy: 0.9599999785423279\n",
      "Epoch: 2, Iteration: 200, Loss: 19.700437545776367, Accuracy: 0.9750000238418579\n",
      "Epoch: 3, Iteration: 0, Loss: 13.878240585327148, Accuracy: 0.9800000190734863\n",
      "Epoch: 3, Iteration: 100, Loss: 15.995513916015625, Accuracy: 0.9700000286102295\n",
      "Epoch: 3, Iteration: 200, Loss: 15.023185729980469, Accuracy: 0.9750000238418579\n",
      "Epoch: 4, Iteration: 0, Loss: 11.836542129516602, Accuracy: 0.9800000190734863\n",
      "Epoch: 4, Iteration: 100, Loss: 12.995640754699707, Accuracy: 0.9750000238418579\n",
      "Epoch: 4, Iteration: 200, Loss: 13.010666847229004, Accuracy: 0.9800000190734863\n"
     ]
    }
   ],
   "source": [
    "train_batched = train.map(preprocess).batch(batch_size)\n",
    "\n",
    "for epoch in range(n_epochs):\n",
    "\n",
    "    # Create an iterator and initialize it\n",
    "    iterator = tf.compat.v1.data.make_initializable_iterator(train_batched)\n",
    "    next_batch = iterator.get_next()\n",
    "    session.run(iterator.initializer)\n",
    "\n",
    "    for i in range(num_iterations):\n",
    "        # Fetch the next batch\n",
    "        X_batch, y_batch = session.run(next_batch)\n",
    "\n",
    "        # Train the network\n",
    "        _, batch_loss, batch_accuracy = session.run(\n",
    "            [optimizer, cross_entropy, accuracy],\n",
    "            feed_dict={X_: X_batch, y: y_batch})\n",
    "\n",
    "        # Print updates every 10 iterations\n",
    "        if i % 100 == 0:\n",
    "            print(f\"Epoch: {epoch}, Iteration: {i}, Loss: {batch_loss}, Accuracy: {batch_accuracy}\")"
   ]
  },
  {
   "cell_type": "code",
   "execution_count": 16,
   "metadata": {},
   "outputs": [
    {
     "data": {
      "image/png": "[encoded data removed]",
      "text/plain": [
       "<Figure size 640x480 with 1 Axes>"
      ]
     },
     "metadata": {},
     "output_type": "display_data"
    },
    {
     "data": {
      "image/png": "[encoded data removed]",
      "text/plain": [
       "<Figure size 640x480 with 32 Axes>"
      ]
     },
     "metadata": {},
     "output_type": "display_data"
    }
   ],
   "source": [
    "# Create an iterator for the dataset\n",
    "ds_train_1_batched = train.batch(1)\n",
    "iterator = tf.compat.v1.data.make_one_shot_iterator(ds_train_1_batched)\n",
    "image, label = iterator.get_next()\n",
    "\n",
    "\n",
    "image_val, label_val = session.run([image, label])\n",
    "# Reshape and display the image using matplotlib\n",
    "plt.imshow(image_val[0, :, :, 0], cmap='gray')  # MNIST images are grayscale\n",
    "plt.title(f\"Label: {label_val[0]}\")\n",
    "plt.show()\n",
    "\n",
    "flatened_image, label = flatten_image(image, label)\n",
    "reshaped_image = tf.reshape(flatened_image, [1, 784])\n",
    "image_val, label_val = session.run([reshaped_image, label])\n",
    "\n",
    "feature_map = session.run([conv1], feed_dict={X_: image_val})[0]\n",
    "\n",
    "\n",
    "for i in range(32):\n",
    "  feature = feature_map[:,:,:,i].reshape([28, 28])\n",
    "  plt.subplot(4,8, i + 1)\n",
    "  plt.imshow(feature)\n",
    "  plt.axis('off')\n",
    "plt.show()"
   ]
  },
  {
   "cell_type": "markdown",
   "metadata": {},
   "source": [
    "<h1> Capsule Network</h1>"
   ]
  },
  {
   "cell_type": "code",
   "execution_count": 20,
   "metadata": {},
   "outputs": [],
   "source": [
    "def squash(sj):\n",
    " sj_norm = tf.reduce_sum(tf.square(sj), -2, keepdims=True)\n",
    " scalar_factor = sj_norm / (1 + sj_norm) / tf.sqrt(sj_norm + 1e-6)\n",
    " vj = scalar_factor * sj \n",
    " return vj"
   ]
  },
  {
   "cell_type": "markdown",
   "metadata": {},
   "source": [
    "<h3>Dynamic Routing</h3>\n"
   ]
  },
  {
   "cell_type": "code",
   "execution_count": 30,
   "metadata": {},
   "outputs": [],
   "source": [
    "def dynamic_routing(ui, bij, num_routing=10):\n",
    "  wij = tf.compat.v1.get_variable('Weight', shape=(1, 1152, 160, 8, 1), dtype=tf.float32,\n",
    "                        initializer=tf.random_normal_initializer(0.01))\n",
    "  biases = tf.compat.v1.get_variable('bias', shape=(1, 1, 10, 16, 1))\n",
    "  ui = tf.tile(ui, [1, 1, 160, 1, 1])\n",
    "  u_hat = tf.reduce_sum(wij * ui, axis=3, keepdims=True)\n",
    "  u_hat = tf.reshape(u_hat, shape=[-1, 1152, 10, 16, 1])\n",
    "  u_hat_stopped = tf.stop_gradient(u_hat, name='stop_gradient')\n",
    "\n",
    "  for r in range(num_routing):\n",
    "    with tf.compat.v1.variable_scope('iter_' + str(r)):\n",
    "      #step 1\n",
    "      cij = tf.nn.softmax(bij, axis=2)\n",
    "      #step 2\n",
    "      if r == num_routing - 1:\n",
    "        sj = tf.multiply(cij, u_hat)\n",
    "        sj = tf.reduce_sum(sj, axis=1, keepdims=True) + biases\n",
    "        vj = squash(sj)\n",
    "      elif r < num_routing - 1:\n",
    "        sj = tf.multiply(cij, u_hat_stopped)\n",
    "        sj = tf.reduce_sum(sj, axis=1, keepdims=True) + biases\n",
    "        vj = squash(sj)\n",
    "        vj_tiled = tf.tile(vj, [1, 1152, 1, 1, 1])\n",
    "        coupling_coeff = tf.reduce_sum(u_hat_stopped * vj_tiled, axis=3,\n",
    "        keepdims=True)\n",
    "        #step 3\n",
    "        bij += coupling_coeff\n",
    "  return vj"
   ]
  },
  {
   "cell_type": "markdown",
   "metadata": {},
   "source": [
    "<h3>Computing primary and digit capsules</h3>"
   ]
  },
  {
   "cell_type": "code",
   "execution_count": 32,
   "metadata": {},
   "outputs": [],
   "source": [
    "# for compatability with tf version 1\n",
    "import tensorflow as tf\n",
    "def conv2d(inputs, num_outputs, kernel_size, padding='VALID', activation=tf.nn.relu, scope=None, strides=[1,1,1,1]):\n",
    "    with tf.compat.v1.variable_scope(scope, default_name='conv2d'):\n",
    "        # Get the input channels\n",
    "        input_channels = inputs.get_shape()[-1]\n",
    "        # Define kernel shape\n",
    "        kernel_shape = [kernel_size, kernel_size, int(input_channels), num_outputs]\n",
    "        # Initialize weights (Glorot/Xavier initializer)\n",
    "        weights = tf.compat.v1.get_variable(\n",
    "            'weights', shape=kernel_shape, initializer=tf.compat.v1.glorot_uniform_initializer())\n",
    "        # Initialize biases\n",
    "        biases = tf.compat.v1.get_variable(\n",
    "            'biases', shape=[num_outputs], initializer=tf.compat.v1.zeros_initializer())\n",
    "        # Perform convolution\n",
    "        conv = tf.nn.conv2d(inputs, weights, strides=strides, padding=padding)\n",
    "        # Add bias\n",
    "        conv = tf.nn.bias_add(conv, biases)\n",
    "        # Apply activation function\n",
    "        if activation:\n",
    "            conv = activation(conv)\n",
    "        return conv\n",
    "\n",
    "\n",
    "graph = tf.Graph()\n",
    "with graph.as_default() as g:\n",
    "  x = tf.compat.v1.placeholder(tf.float32, [200, 784])\n",
    "  y = tf.compat.v1.placeholder(tf.float32, [batch_size,10])\n",
    "  x_image = tf.reshape(x, [-1,28,28,1])\n",
    "\n",
    "  with tf.name_scope('convolutional_input'):\n",
    "    input_data = conv2d(inputs=x_image, num_outputs=256,\n",
    "                                          kernel_size=9, padding='VALID', activation=None, scope=\"conv1\")\n",
    "  capsules = []\n",
    "  for i in range(8):\n",
    "    with tf.name_scope('capsules_' + str(i)):\n",
    "      #convolution operation\n",
    "      output = conv2d(inputs=input_data, num_outputs=32,kernel_size=9,\n",
    "                      strides=2, padding='VALID', activation=None, scope=f\"conv2-{i}\")\n",
    "      #reshape the output\n",
    "      output = tf.reshape(output, [batch_size, -1, 1, 1])\n",
    "      #store the output which is capsule in the capsules list\n",
    "      capsules.append(output)\n",
    "\n",
    "  primary_capsule = tf.concat(capsules, axis=2)\n",
    "  primary_capsule = squash(primary_capsule)\n",
    "\n",
    "  with tf.name_scope('dynamic_routing'):\n",
    "    #reshape the primary capsule\n",
    "    outputs = tf.reshape(primary_capsule, shape=(batch_size, -1, 1,\n",
    "                                                 primary_capsule.shape[-2], 1))\n",
    "    #initialize bij with 0s\n",
    "    bij = tf.constant(np.zeros([1, primary_capsule.shape[1], 10, 1, 1],\n",
    "                               dtype=np.float32))\n",
    "    #compute the digit capsules using dynamic routing algorithm which takes\n",
    "    #the reshaped primary capsules and bij as inputs and returns the activity vector\n",
    "    digit_capsules = dynamic_routing(outputs, bij)\n",
    "\n",
    "  digit_capsules = tf.squeeze(digit_capsules, axis=1)"
   ]
  },
  {
   "cell_type": "markdown",
   "metadata": {},
   "source": [
    "<h3>Masking Digit Capsule</h3>\n"
   ]
  },
  {
   "cell_type": "code",
   "execution_count": 34,
   "metadata": {},
   "outputs": [],
   "source": [
    "with graph.as_default() as g:\n",
    "  with tf.compat.v1.variable_scope('Masking'):\n",
    "    #select the activity vector of given input image using the actual label y\n",
    "    # and mask out others\n",
    "    masked_v = tf.multiply(tf.squeeze(digit_capsules), tf.reshape(y, (-1, 10, 1)))\n",
    "    "
   ]
  },
  {
   "cell_type": "markdown",
   "metadata": {},
   "source": [
    "<h3> Define the Decoder</h3>\n"
   ]
  },
  {
   "cell_type": "code",
   "execution_count": 41,
   "metadata": {},
   "outputs": [],
   "source": [
    "# for compatability with tensorflow v1\n",
    "def dense_layer(inputs, num_outputs, activation_fn=None, scope=None):\n",
    "    with tf.compat.v1.variable_scope(scope, default_name='dense_layer'):\n",
    "        input_dim = inputs.get_shape()[-1]\n",
    "        weights = tf.compat.v1.get_variable(\n",
    "            'weights', shape=[input_dim, num_outputs], initializer=tf.compat.v1.glorot_uniform_initializer())\n",
    "        biases = tf.compat.v1.get_variable(\n",
    "            'biases', shape=[num_outputs], initializer=tf.zeros_initializer())\n",
    "        outputs = tf.matmul(inputs, weights) + biases\n",
    "        if activation_fn:\n",
    "            outputs = activation_fn(outputs)\n",
    "        return outputs\n",
    "    \n",
    "with graph.as_default() as g:\n",
    "  with tf.name_scope('Decoder'):\n",
    "    #masked digit capsule\n",
    "    v_j = tf.reshape(masked_v, shape=(batch_size, -1))\n",
    "    #first fully connected layer\n",
    "    fc1 = dense_layer(v_j, num_outputs=512, scope=\"fc1\")\n",
    "    #second fully connected layer\n",
    "    fc2 = dense_layer(fc1, num_outputs=1024, scope=\"fc2\")\n",
    "    #reconstructed image\n",
    "    reconstructed_image = dense_layer(fc2, num_outputs=784, activation_fn=tf.sigmoid)"
   ]
  },
  {
   "cell_type": "markdown",
   "metadata": {},
   "source": [
    "<h3>Accuracy and Loss</h3>"
   ]
  },
  {
   "cell_type": "code",
   "execution_count": 50,
   "metadata": {},
   "outputs": [],
   "source": [
    "with graph.as_default() as g:\n",
    "  with tf.compat.v1.variable_scope('accuracy'):\n",
    "    v_length = tf.sqrt(tf.reduce_sum(tf.square(digit_capsules), axis=2, keepdims=True) + 1e-6)\n",
    "\n",
    "    softmax_v = tf.nn.softmax(v_length, axis=1)\n",
    "\n",
    "    argmax_idx = tf.compat.v1.to_int32(tf.argmax(softmax_v, axis=1))\n",
    "    predicted_digit = tf.reshape(argmax_idx, shape=(batch_size, ))\n",
    "\n",
    "    actual_digit = tf.compat.v1.to_int32(tf.argmax(y, axis=1))\n",
    "\n",
    "    correct_pred = tf.equal(predicted_digit,actual_digit)\n",
    "    accuracy = tf.reduce_mean(tf.cast(correct_pred, tf.float32))\n",
    "    \n",
    "    \n",
    "    \n",
    "# Marginal Loss\n",
    "with graph.as_default() as g:\n",
    "  max_left = tf.square(tf.maximum(0.,0.9 - v_length))\n",
    "  max_right = tf.square(tf.maximum(0., v_length - 0.1))\n",
    "\n",
    "  T_k = y\n",
    "  lambda_ = 0.5\n",
    "  L_k = T_k * max_left + lambda_ * (1 - T_k) * max_right\n",
    "\n",
    "  margin_loss = tf.reduce_mean(tf.reduce_sum(L_k, axis=1))\n",
    "\n",
    "# Reconstruction Loss\n",
    "with graph.as_default() as g:\n",
    "  original_image = tf.reshape(x, shape=(batch_size, -1))\n",
    "  squared = tf.square(reconstructed_image - original_image)\n",
    "  reconstruction_loss = tf.reduce_mean(squared)\n",
    "  \n",
    "  \n",
    "#  Total Loss\n",
    "with graph.as_default() as g:\n",
    "  alpha = 0.0005\n",
    "  total_loss = margin_loss + alpha * reconstruction_loss\n",
    "\n",
    "  optimizer = tf.compat.v1.train.AdamOptimizer(0.0001)\n",
    "  train_op = optimizer.minimize(total_loss)\n"
   ]
  },
  {
   "cell_type": "code",
   "execution_count": 63,
   "metadata": {},
   "outputs": [],
   "source": [
    "# hyperparameters\n",
    "num_epochs =5\n",
    "batch_size = 200\n",
    "num_steps = 60_000 // batch_size\n",
    "session = tf.compat.v1.Session()\n",
    "session.run(tf.compat.v1.global_variables_initializer())"
   ]
  },
  {
   "cell_type": "code",
   "execution_count": null,
   "metadata": {},
   "outputs": [
    {
     "name": "stdout",
     "output_type": "stream",
     "text": [
      "Epoch: 0, iteration:0, Loss:0.5749418139457703 Accuracy:0.05999999865889549\n"
     ]
    }
   ],
   "source": [
    "with graph.as_default() as g:\n",
    "\n",
    "  (ds_train, ds_test), ds_info = tensorflow_datasets.load(\n",
    "      'mnist',\n",
    "      split=['train', 'test'],\n",
    "      shuffle_files=True,\n",
    "      as_supervised=True,\n",
    "      with_info=True,\n",
    "  )\n",
    "\n",
    "  ds_train_batched = ds_train.map(preprocess).batch(batch_size)\n",
    "\n",
    "  with tf.compat.v1.Session(graph=graph) as sess:\n",
    "    init_op = tf.compat.v1.global_variables_initializer()\n",
    "    sess.run(init_op)\n",
    "\n",
    "    for epoch in range(num_epochs):\n",
    "      iterator = tf.compat.v1.data.make_initializable_iterator(ds_train_batched)\n",
    "      next_batch = iterator.get_next()\n",
    "\n",
    "      sess.run(iterator.initializer)\n",
    "\n",
    "      for iteration in range(num_steps):\n",
    "        #select some batch of data points according to the batch size (100)\n",
    "        X_batch, y_batch = sess.run(next_batch)\n",
    "\n",
    "        feed_dict = {x : X_batch, y : y_batch}\n",
    "        _, loss, acc = sess.run([train_op, total_loss, accuracy], feed_dict=feed_dict)\n",
    "\n",
    "        if iteration%100 == 0:\n",
    "          print('Epoch: {}, iteration:{}, Loss:{} Accuracy:{}'.format(epoch,iteration,loss,acc))\n"
   ]
  }
 ],
 "metadata": {
  "kernelspec": {
   "display_name": "env",
   "language": "python",
   "name": "python3"
  },
  "language_info": {
   "codemirror_mode": {
    "name": "ipython",
    "version": 3
   },
   "file_extension": ".py",
   "mimetype": "text/x-python",
   "name": "python",
   "nbconvert_exporter": "python",
   "pygments_lexer": "ipython3",
   "version": "3.11.9"
  }
 },
 "nbformat": 4,
 "nbformat_minor": 2
}
