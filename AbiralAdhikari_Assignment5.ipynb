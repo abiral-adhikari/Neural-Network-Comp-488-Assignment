{
 "cells": [
  {
   "cell_type": "markdown",
   "metadata": {},
   "source": [
    "<h1>LSTM to the rescue<br>\n",
    "Forward and backward propagation in LSTM\n"
   ]
  },
  {
   "cell_type": "markdown",
   "metadata": {},
   "source": [
    "<h1>Predicting Bitcoin price using LSTM</h1>"
   ]
  },
  {
   "cell_type": "code",
   "execution_count": 3,
   "metadata": {},
   "outputs": [
    {
     "ename": "AttributeError",
     "evalue": "module 'tensorflow' has no attribute 'logging'",
     "output_type": "error",
     "traceback": [
      "\u001b[1;31m---------------------------------------------------------------------------\u001b[0m",
      "\u001b[1;31mAttributeError\u001b[0m                            Traceback (most recent call last)",
      "Cell \u001b[1;32mIn[3], line 8\u001b[0m\n\u001b[0;32m      6\u001b[0m plt\u001b[38;5;241m.\u001b[39mstyle\u001b[38;5;241m.\u001b[39muse(\u001b[38;5;124m'\u001b[39m\u001b[38;5;124mggplot\u001b[39m\u001b[38;5;124m'\u001b[39m)\n\u001b[0;32m      7\u001b[0m \u001b[38;5;28;01mimport\u001b[39;00m \u001b[38;5;21;01mtensorflow\u001b[39;00m \u001b[38;5;28;01mas\u001b[39;00m \u001b[38;5;21;01mtf\u001b[39;00m\n\u001b[1;32m----> 8\u001b[0m \u001b[43mtf\u001b[49m\u001b[38;5;241;43m.\u001b[39;49m\u001b[43mlogging\u001b[49m\u001b[38;5;241m.\u001b[39mset_verbosity(tf\u001b[38;5;241m.\u001b[39mlogging\u001b[38;5;241m.\u001b[39mERROR)\n\u001b[0;32m      9\u001b[0m \u001b[38;5;28;01mimport\u001b[39;00m \u001b[38;5;21;01mwarnings\u001b[39;00m\n\u001b[0;32m     10\u001b[0m warnings\u001b[38;5;241m.\u001b[39mfilterwarnings(\u001b[38;5;124m'\u001b[39m\u001b[38;5;124mignore\u001b[39m\u001b[38;5;124m'\u001b[39m)\n",
      "\u001b[1;31mAttributeError\u001b[0m: module 'tensorflow' has no attribute 'logging'"
     ]
    }
   ],
   "source": [
    "import numpy as np\n",
    "import pandas as pd\n",
    "from sklearn.preprocessing import StandardScaler \n",
    "import matplotlib.pyplot as plt\n",
    "%matplotlib inline \n",
    "plt.style.use('ggplot')\n",
    "import tensorflow as tf\n",
    "tf.logging.set_verbosity(tf.logging.ERROR)\n",
    "import warnings\n",
    "warnings.filterwarnings('ignore')\n"
   ]
  },
  {
   "cell_type": "code",
   "execution_count": 6,
   "metadata": {},
   "outputs": [
    {
     "name": "stdout",
     "output_type": "stream",
     "text": [
      "        Date  Symbol     Open     High      Low    Close  Volume From  \\\n",
      "0  5/26/2018  BTCUSD  7459.11  7640.46  7380.00  7520.00      2722.80   \n",
      "1  5/25/2018  BTCUSD  7584.15  7661.85  7326.94  7459.11      8491.93   \n",
      "2  5/24/2018  BTCUSD  7505.00  7734.99  7269.00  7584.15     11033.72   \n",
      "3  5/23/2018  BTCUSD  7987.70  8030.00  7433.19  7505.00     14905.99   \n",
      "4  5/22/2018  BTCUSD  8393.44  8400.00  7950.00  7987.70      6589.43   \n",
      "\n",
      "      Volume To  \n",
      "0  2.042265e+07  \n",
      "1  6.342069e+07  \n",
      "2  8.293137e+07  \n",
      "3  1.148104e+08  \n",
      "4  5.389753e+07  \n"
     ]
    },
    {
     "data": {
      "image/png": "[encoded data removed]",
      "text/plain": [
       "<Figure size 640x480 with 1 Axes>"
      ]
     },
     "metadata": {},
     "output_type": "display_data"
    }
   ],
   "source": [
    "df=pd.read_csv(\"data/btc.csv\")\n",
    "print(df.head())\n",
    "\n",
    "# We only take Closing price for calculation\n",
    "data=df[\"Close\"].values\n",
    "# Next, we standardize the data and bring it to the same scale:\n",
    "scaler = StandardScaler()\n",
    "data = scaler.fit_transform(data.reshape(-1, 1))\n",
    " \n",
    "# We then plot and observe the trend of how the Bitcoin price changes. Since\n",
    "# we scaled the price, it is not a bigger number:\n",
    "plt.plot(data)\n",
    "plt.xlabel('Days')\n",
    "plt.ylabel('Price') \n",
    "plt.grid()\n"
   ]
  },
  {
   "cell_type": "code",
   "execution_count": 7,
   "metadata": {},
   "outputs": [
    {
     "name": "stdout",
     "output_type": "stream",
     "text": [
      "(1000, 7, 1)\n"
     ]
    }
   ],
   "source": [
    "# Define the get_data function\n",
    "def get_data(data, window_size):\n",
    "    X = []\n",
    "    y = []\n",
    "    i = 0\n",
    "    while (i + window_size) <= len(data) - 1:\n",
    "        X.append(data[i : i + window_size])\n",
    "        y.append(data[i + window_size])\n",
    "        i += 1\n",
    "    assert len(X) == len(y)\n",
    "    return X, y\n",
    "\n",
    "\n",
    "X, y = get_data(data, window_size=7)\n",
    "\n",
    "X_train = np.array(X[:1000])\n",
    "y_train = np.array(y[:1000])\n",
    "X_test = np.array(X[1000:])\n",
    "y_test = np.array(y[1000:])\n",
    "\n",
    "print(X_train.shape)"
   ]
  },
  {
   "cell_type": "markdown",
   "metadata": {},
   "source": [
    "<h5>Define Parameter"
   ]
  },
  {
   "cell_type": "code",
   "execution_count": 8,
   "metadata": {},
   "outputs": [
    {
     "name": "stdout",
     "output_type": "stream",
     "text": [
      "WARNING:tensorflow:From C:\\Users\\hp\\AppData\\Local\\Temp\\ipykernel_1364\\4231954430.py:9: The name tf.disable_eager_execution is deprecated. Please use tf.compat.v1.disable_eager_execution instead.\n",
      "\n"
     ]
    }
   ],
   "source": [
    "import tensorflow as tf\n",
    "\n",
    "# Define network parameters\n",
    "batch_size = 7\n",
    "window_size = 7\n",
    "hidden_layer = 256\n",
    "learning_rate = 0.001\n",
    "\n",
    "tf.compat.v1.disable_eager_execution()\n",
    "\n",
    "# Define placeholders for input and output\n",
    "input = tf.compat.v1.placeholder(tf.float32, [batch_size, window_size, 1])\n",
    "target = tf.compat.v1.placeholder(tf.float32, [batch_size, 1])\n",
    "\n",
    "# Define weights for LSTM gates\n",
    "\n",
    "# Weights for input gate\n",
    "U_i = tf.Variable(tf.random.truncated_normal([1, hidden_layer], stddev=0.05))\n",
    "W_i = tf.Variable(tf.random.truncated_normal([hidden_layer, hidden_layer], stddev=0.05))\n",
    "b_i = tf.Variable(tf.zeros([hidden_layer]))\n",
    "\n",
    "# Weights for forget gate\n",
    "U_f = tf.Variable(tf.random.truncated_normal([1, hidden_layer], stddev=0.05))\n",
    "W_f = tf.Variable(tf.random.truncated_normal([hidden_layer, hidden_layer], stddev=0.05))\n",
    "b_f = tf.Variable(tf.zeros([hidden_layer]))\n",
    "\n",
    "# Weights for output gate\n",
    "U_o = tf.Variable(tf.random.truncated_normal([1, hidden_layer], stddev=0.05))\n",
    "W_o = tf.Variable(tf.random.truncated_normal([hidden_layer, hidden_layer], stddev=0.05))\n",
    "b_o = tf.Variable(tf.zeros([hidden_layer]))\n",
    "\n",
    "# Weights for candidate state\n",
    "U_g = tf.Variable(tf.random.truncated_normal([1, hidden_layer], stddev=0.05))\n",
    "W_g = tf.Variable(tf.random.truncated_normal([hidden_layer, hidden_layer], stddev=0.05))\n",
    "b_g = tf.Variable(tf.zeros([hidden_layer]))\n",
    "\n",
    "# Output layer weights\n",
    "V = tf.Variable(tf.random.truncated_normal([hidden_layer, 1], stddev=0.05))\n",
    "b_v = tf.Variable(tf.zeros([1]))"
   ]
  },
  {
   "cell_type": "markdown",
   "metadata": {},
   "source": [
    "<h5>Define LSTM Cell"
   ]
  },
  {
   "cell_type": "code",
   "execution_count": 9,
   "metadata": {},
   "outputs": [],
   "source": [
    "def LSTM_cell(input, prev_hidden_state, prev_cell_state):\n",
    "    # Input gate\n",
    "    it = tf.sigmoid(tf.matmul(input, U_i) + tf.matmul(prev_hidden_state, W_i) + b_i)\n",
    "\n",
    "    # Forget gate\n",
    "    ft = tf.sigmoid(tf.matmul(input, U_f) + tf.matmul(prev_hidden_state, W_f) + b_f)\n",
    "\n",
    "    # Output gate\n",
    "    ot = tf.sigmoid(tf.matmul(input, U_o) + tf.matmul(prev_hidden_state, W_o) + b_o)\n",
    "\n",
    "    # Candidate state\n",
    "    gt = tf.tanh(tf.matmul(input, U_g) + tf.matmul(prev_hidden_state, W_g) + b_g)\n",
    "\n",
    "    # Cell state update\n",
    "    ct = (prev_cell_state * ft) + (it * gt)\n",
    "\n",
    "    # Hidden state (output)\n",
    "    ht = ot * tf.tanh(ct)\n",
    "\n",
    "    return ct, ht"
   ]
  },
  {
   "cell_type": "markdown",
   "metadata": {},
   "source": [
    "<h4> Forward Propagation"
   ]
  },
  {
   "cell_type": "code",
   "execution_count": 10,
   "metadata": {},
   "outputs": [],
   "source": [
    "# Initialize the list for storing the output\n",
    "y_hat = []\n",
    "\n",
    "\n",
    "for i in range(batch_size):\n",
    "\n",
    "    hidden_state = np.zeros([1, hidden_layer], dtype=np.float32)\n",
    "    cell_state = np.zeros([1, hidden_layer], dtype=np.float32)\n",
    "\n",
    "    # Perform forward propagation through LSTM for each time step\n",
    "    for t in range(window_size):\n",
    "        cell_state, hidden_state = LSTM_cell(\n",
    "            tf.reshape(input[i][t], (-1, 1)), hidden_state, cell_state\n",
    "        )\n",
    "\n",
    "    y_hat.append(tf.matmul(hidden_state, V) + b_v)"
   ]
  },
  {
   "cell_type": "markdown",
   "metadata": {},
   "source": [
    "<h4>Backward Propagation"
   ]
  },
  {
   "cell_type": "code",
   "execution_count": 11,
   "metadata": {},
   "outputs": [
    {
     "name": "stdout",
     "output_type": "stream",
     "text": [
      "WARNING:tensorflow:From C:\\Users\\hp\\AppData\\Local\\Temp\\ipykernel_1364\\1540317723.py:14: The name tf.train.AdamOptimizer is deprecated. Please use tf.compat.v1.train.AdamOptimizer instead.\n",
      "\n"
     ]
    }
   ],
   "source": [
    "# Initialize the list to store the losses\n",
    "losses = []\n",
    "\n",
    "mse = tf.keras.losses.MeanSquaredError()\n",
    "\n",
    "for i in range(len(y_hat)):\n",
    "    losses.append(mse(tf.reshape(target[i], (-1, 1)), y_hat[i]))\n",
    "\n",
    "loss = tf.reduce_mean(losses)\n",
    "\n",
    "gradients = tf.gradients(loss, tf.compat.v1.trainable_variables())\n",
    "clipped, _ = tf.clip_by_global_norm(gradients, 4.0)\n",
    "\n",
    "optimizer = tf.compat.v1.train.AdamOptimizer(learning_rate).apply_gradients(\n",
    "    zip(clipped, tf.compat.v1.trainable_variables())\n",
    ")"
   ]
  },
  {
   "cell_type": "markdown",
   "metadata": {},
   "source": [
    "<h4> Training LSTM Model"
   ]
  },
  {
   "cell_type": "code",
   "execution_count": 12,
   "metadata": {},
   "outputs": [
    {
     "name": "stdout",
     "output_type": "stream",
     "text": [
      "Epoch 0, Loss: 0.1823953539133072\n",
      "Epoch 10, Loss: 0.040875375270843506\n",
      "Epoch 20, Loss: 0.019999751821160316\n",
      "Epoch 30, Loss: 0.013000105507671833\n",
      "Epoch 40, Loss: 0.022245706990361214\n",
      "Epoch 50, Loss: 0.008768349885940552\n",
      "Epoch 60, Loss: 0.010577555745840073\n",
      "Epoch 70, Loss: 0.009084261022508144\n"
     ]
    },
    {
     "ename": "KeyboardInterrupt",
     "evalue": "",
     "output_type": "error",
     "traceback": [
      "\u001b[1;31m---------------------------------------------------------------------------\u001b[0m",
      "\u001b[1;31mKeyboardInterrupt\u001b[0m                         Traceback (most recent call last)",
      "Cell \u001b[1;32mIn[12], line 18\u001b[0m\n\u001b[0;32m     15\u001b[0m X_batch \u001b[38;5;241m=\u001b[39m X_train[index : index \u001b[38;5;241m+\u001b[39m batch_size]\n\u001b[0;32m     16\u001b[0m y_batch \u001b[38;5;241m=\u001b[39m y_train[index : index \u001b[38;5;241m+\u001b[39m batch_size]\n\u001b[1;32m---> 18\u001b[0m predicted, loss_val, _ \u001b[38;5;241m=\u001b[39m \u001b[43msession\u001b[49m\u001b[38;5;241;43m.\u001b[39;49m\u001b[43mrun\u001b[49m\u001b[43m(\u001b[49m\n\u001b[0;32m     19\u001b[0m \u001b[43m    \u001b[49m\u001b[43m[\u001b[49m\u001b[43my_hat\u001b[49m\u001b[43m,\u001b[49m\u001b[43m \u001b[49m\u001b[43mloss\u001b[49m\u001b[43m,\u001b[49m\u001b[43m \u001b[49m\u001b[43moptimizer\u001b[49m\u001b[43m]\u001b[49m\u001b[43m,\u001b[49m\u001b[43m \u001b[49m\u001b[43mfeed_dict\u001b[49m\u001b[38;5;241;43m=\u001b[39;49m\u001b[43m{\u001b[49m\u001b[38;5;28;43minput\u001b[39;49m\u001b[43m:\u001b[49m\u001b[43m \u001b[49m\u001b[43mX_batch\u001b[49m\u001b[43m,\u001b[49m\u001b[43m \u001b[49m\u001b[43mtarget\u001b[49m\u001b[43m:\u001b[49m\u001b[43m \u001b[49m\u001b[43my_batch\u001b[49m\u001b[43m}\u001b[49m\n\u001b[0;32m     20\u001b[0m \u001b[43m\u001b[49m\u001b[43m)\u001b[49m\n\u001b[0;32m     22\u001b[0m epoch_loss\u001b[38;5;241m.\u001b[39mappend(loss_val)\n\u001b[0;32m     24\u001b[0m train_predictions\u001b[38;5;241m.\u001b[39mappend(predicted)\n",
      "File \u001b[1;32md:\\Deep Learning\\Assignments\\env\\Lib\\site-packages\\tensorflow\\python\\client\\session.py:971\u001b[0m, in \u001b[0;36mBaseSession.run\u001b[1;34m(self, fetches, feed_dict, options, run_metadata)\u001b[0m\n\u001b[0;32m    968\u001b[0m run_metadata_ptr \u001b[38;5;241m=\u001b[39m tf_session\u001b[38;5;241m.\u001b[39mTF_NewBuffer() \u001b[38;5;28;01mif\u001b[39;00m run_metadata \u001b[38;5;28;01melse\u001b[39;00m \u001b[38;5;28;01mNone\u001b[39;00m\n\u001b[0;32m    970\u001b[0m \u001b[38;5;28;01mtry\u001b[39;00m:\n\u001b[1;32m--> 971\u001b[0m   result \u001b[38;5;241m=\u001b[39m \u001b[38;5;28;43mself\u001b[39;49m\u001b[38;5;241;43m.\u001b[39;49m\u001b[43m_run\u001b[49m\u001b[43m(\u001b[49m\u001b[38;5;28;43;01mNone\u001b[39;49;00m\u001b[43m,\u001b[49m\u001b[43m \u001b[49m\u001b[43mfetches\u001b[49m\u001b[43m,\u001b[49m\u001b[43m \u001b[49m\u001b[43mfeed_dict\u001b[49m\u001b[43m,\u001b[49m\u001b[43m \u001b[49m\u001b[43moptions_ptr\u001b[49m\u001b[43m,\u001b[49m\n\u001b[0;32m    972\u001b[0m \u001b[43m                     \u001b[49m\u001b[43mrun_metadata_ptr\u001b[49m\u001b[43m)\u001b[49m\n\u001b[0;32m    973\u001b[0m   \u001b[38;5;28;01mif\u001b[39;00m run_metadata:\n\u001b[0;32m    974\u001b[0m     proto_data \u001b[38;5;241m=\u001b[39m tf_session\u001b[38;5;241m.\u001b[39mTF_GetBuffer(run_metadata_ptr)\n",
      "File \u001b[1;32md:\\Deep Learning\\Assignments\\env\\Lib\\site-packages\\tensorflow\\python\\client\\session.py:1214\u001b[0m, in \u001b[0;36mBaseSession._run\u001b[1;34m(self, handle, fetches, feed_dict, options, run_metadata)\u001b[0m\n\u001b[0;32m   1211\u001b[0m \u001b[38;5;66;03m# We only want to really perform the run if fetches or targets are provided,\u001b[39;00m\n\u001b[0;32m   1212\u001b[0m \u001b[38;5;66;03m# or if the call is a partial run that specifies feeds.\u001b[39;00m\n\u001b[0;32m   1213\u001b[0m \u001b[38;5;28;01mif\u001b[39;00m final_fetches \u001b[38;5;129;01mor\u001b[39;00m final_targets \u001b[38;5;129;01mor\u001b[39;00m (handle \u001b[38;5;129;01mand\u001b[39;00m feed_dict_tensor):\n\u001b[1;32m-> 1214\u001b[0m   results \u001b[38;5;241m=\u001b[39m \u001b[38;5;28;43mself\u001b[39;49m\u001b[38;5;241;43m.\u001b[39;49m\u001b[43m_do_run\u001b[49m\u001b[43m(\u001b[49m\u001b[43mhandle\u001b[49m\u001b[43m,\u001b[49m\u001b[43m \u001b[49m\u001b[43mfinal_targets\u001b[49m\u001b[43m,\u001b[49m\u001b[43m \u001b[49m\u001b[43mfinal_fetches\u001b[49m\u001b[43m,\u001b[49m\n\u001b[0;32m   1215\u001b[0m \u001b[43m                         \u001b[49m\u001b[43mfeed_dict_tensor\u001b[49m\u001b[43m,\u001b[49m\u001b[43m \u001b[49m\u001b[43moptions\u001b[49m\u001b[43m,\u001b[49m\u001b[43m \u001b[49m\u001b[43mrun_metadata\u001b[49m\u001b[43m)\u001b[49m\n\u001b[0;32m   1216\u001b[0m \u001b[38;5;28;01melse\u001b[39;00m:\n\u001b[0;32m   1217\u001b[0m   results \u001b[38;5;241m=\u001b[39m []\n",
      "File \u001b[1;32md:\\Deep Learning\\Assignments\\env\\Lib\\site-packages\\tensorflow\\python\\client\\session.py:1394\u001b[0m, in \u001b[0;36mBaseSession._do_run\u001b[1;34m(self, handle, target_list, fetch_list, feed_dict, options, run_metadata)\u001b[0m\n\u001b[0;32m   1391\u001b[0m   \u001b[38;5;28;01mreturn\u001b[39;00m \u001b[38;5;28mself\u001b[39m\u001b[38;5;241m.\u001b[39m_call_tf_sessionprun(handle, feed_dict, fetch_list)\n\u001b[0;32m   1393\u001b[0m \u001b[38;5;28;01mif\u001b[39;00m handle \u001b[38;5;129;01mis\u001b[39;00m \u001b[38;5;28;01mNone\u001b[39;00m:\n\u001b[1;32m-> 1394\u001b[0m   \u001b[38;5;28;01mreturn\u001b[39;00m \u001b[38;5;28;43mself\u001b[39;49m\u001b[38;5;241;43m.\u001b[39;49m\u001b[43m_do_call\u001b[49m\u001b[43m(\u001b[49m\u001b[43m_run_fn\u001b[49m\u001b[43m,\u001b[49m\u001b[43m \u001b[49m\u001b[43mfeeds\u001b[49m\u001b[43m,\u001b[49m\u001b[43m \u001b[49m\u001b[43mfetches\u001b[49m\u001b[43m,\u001b[49m\u001b[43m \u001b[49m\u001b[43mtargets\u001b[49m\u001b[43m,\u001b[49m\u001b[43m \u001b[49m\u001b[43moptions\u001b[49m\u001b[43m,\u001b[49m\n\u001b[0;32m   1395\u001b[0m \u001b[43m                       \u001b[49m\u001b[43mrun_metadata\u001b[49m\u001b[43m)\u001b[49m\n\u001b[0;32m   1396\u001b[0m \u001b[38;5;28;01melse\u001b[39;00m:\n\u001b[0;32m   1397\u001b[0m   \u001b[38;5;28;01mreturn\u001b[39;00m \u001b[38;5;28mself\u001b[39m\u001b[38;5;241m.\u001b[39m_do_call(_prun_fn, handle, feeds, fetches)\n",
      "File \u001b[1;32md:\\Deep Learning\\Assignments\\env\\Lib\\site-packages\\tensorflow\\python\\client\\session.py:1401\u001b[0m, in \u001b[0;36mBaseSession._do_call\u001b[1;34m(self, fn, *args)\u001b[0m\n\u001b[0;32m   1399\u001b[0m \u001b[38;5;28;01mdef\u001b[39;00m \u001b[38;5;21m_do_call\u001b[39m(\u001b[38;5;28mself\u001b[39m, fn, \u001b[38;5;241m*\u001b[39margs):\n\u001b[0;32m   1400\u001b[0m   \u001b[38;5;28;01mtry\u001b[39;00m:\n\u001b[1;32m-> 1401\u001b[0m     \u001b[38;5;28;01mreturn\u001b[39;00m \u001b[43mfn\u001b[49m\u001b[43m(\u001b[49m\u001b[38;5;241;43m*\u001b[39;49m\u001b[43margs\u001b[49m\u001b[43m)\u001b[49m\n\u001b[0;32m   1402\u001b[0m   \u001b[38;5;28;01mexcept\u001b[39;00m errors\u001b[38;5;241m.\u001b[39mOpError \u001b[38;5;28;01mas\u001b[39;00m e:\n\u001b[0;32m   1403\u001b[0m     message \u001b[38;5;241m=\u001b[39m compat\u001b[38;5;241m.\u001b[39mas_text(e\u001b[38;5;241m.\u001b[39mmessage)\n",
      "File \u001b[1;32md:\\Deep Learning\\Assignments\\env\\Lib\\site-packages\\tensorflow\\python\\client\\session.py:1384\u001b[0m, in \u001b[0;36mBaseSession._do_run.<locals>._run_fn\u001b[1;34m(feed_dict, fetch_list, target_list, options, run_metadata)\u001b[0m\n\u001b[0;32m   1381\u001b[0m \u001b[38;5;28;01mdef\u001b[39;00m \u001b[38;5;21m_run_fn\u001b[39m(feed_dict, fetch_list, target_list, options, run_metadata):\n\u001b[0;32m   1382\u001b[0m   \u001b[38;5;66;03m# Ensure any changes to the graph are reflected in the runtime.\u001b[39;00m\n\u001b[0;32m   1383\u001b[0m   \u001b[38;5;28mself\u001b[39m\u001b[38;5;241m.\u001b[39m_extend_graph()\n\u001b[1;32m-> 1384\u001b[0m   \u001b[38;5;28;01mreturn\u001b[39;00m \u001b[38;5;28;43mself\u001b[39;49m\u001b[38;5;241;43m.\u001b[39;49m\u001b[43m_call_tf_sessionrun\u001b[49m\u001b[43m(\u001b[49m\u001b[43moptions\u001b[49m\u001b[43m,\u001b[49m\u001b[43m \u001b[49m\u001b[43mfeed_dict\u001b[49m\u001b[43m,\u001b[49m\u001b[43m \u001b[49m\u001b[43mfetch_list\u001b[49m\u001b[43m,\u001b[49m\n\u001b[0;32m   1385\u001b[0m \u001b[43m                                  \u001b[49m\u001b[43mtarget_list\u001b[49m\u001b[43m,\u001b[49m\u001b[43m \u001b[49m\u001b[43mrun_metadata\u001b[49m\u001b[43m)\u001b[49m\n",
      "File \u001b[1;32md:\\Deep Learning\\Assignments\\env\\Lib\\site-packages\\tensorflow\\python\\client\\session.py:1477\u001b[0m, in \u001b[0;36mBaseSession._call_tf_sessionrun\u001b[1;34m(self, options, feed_dict, fetch_list, target_list, run_metadata)\u001b[0m\n\u001b[0;32m   1475\u001b[0m \u001b[38;5;28;01mdef\u001b[39;00m \u001b[38;5;21m_call_tf_sessionrun\u001b[39m(\u001b[38;5;28mself\u001b[39m, options, feed_dict, fetch_list, target_list,\n\u001b[0;32m   1476\u001b[0m                         run_metadata):\n\u001b[1;32m-> 1477\u001b[0m   \u001b[38;5;28;01mreturn\u001b[39;00m \u001b[43mtf_session\u001b[49m\u001b[38;5;241;43m.\u001b[39;49m\u001b[43mTF_SessionRun_wrapper\u001b[49m\u001b[43m(\u001b[49m\u001b[38;5;28;43mself\u001b[39;49m\u001b[38;5;241;43m.\u001b[39;49m\u001b[43m_session\u001b[49m\u001b[43m,\u001b[49m\u001b[43m \u001b[49m\u001b[43moptions\u001b[49m\u001b[43m,\u001b[49m\u001b[43m \u001b[49m\u001b[43mfeed_dict\u001b[49m\u001b[43m,\u001b[49m\n\u001b[0;32m   1478\u001b[0m \u001b[43m                                          \u001b[49m\u001b[43mfetch_list\u001b[49m\u001b[43m,\u001b[49m\u001b[43m \u001b[49m\u001b[43mtarget_list\u001b[49m\u001b[43m,\u001b[49m\n\u001b[0;32m   1479\u001b[0m \u001b[43m                                          \u001b[49m\u001b[43mrun_metadata\u001b[49m\u001b[43m)\u001b[49m\n",
      "\u001b[1;31mKeyboardInterrupt\u001b[0m: "
     ]
    }
   ],
   "source": [
    "# Start the TensorFlow session and initialize variables\n",
    "session = tf.compat.v1.Session()\n",
    "session.run(tf.compat.v1.global_variables_initializer())\n",
    "\n",
    "epochs = 100\n",
    "\n",
    "# Training loop\n",
    "for i in range(epochs):\n",
    "    train_predictions = []\n",
    "    index = 0\n",
    "    epoch_loss = []\n",
    "\n",
    "    while (index + batch_size) <= len(X_train):\n",
    "\n",
    "        X_batch = X_train[index : index + batch_size]\n",
    "        y_batch = y_train[index : index + batch_size]\n",
    "\n",
    "        predicted, loss_val, _ = session.run(\n",
    "            [y_hat, loss, optimizer], feed_dict={input: X_batch, target: y_batch}\n",
    "        )\n",
    "\n",
    "        epoch_loss.append(loss_val)\n",
    "\n",
    "        train_predictions.append(predicted)\n",
    "\n",
    "        index += batch_size\n",
    "\n",
    "    # Print the loss every 10 iterations\n",
    "    if (i % 10) == 0:\n",
    "        print(\"Epoch {}, Loss: {}\".format(i, np.mean(epoch_loss)))"
   ]
  },
  {
   "cell_type": "markdown",
   "metadata": {},
   "source": [
    "<h4> Make Predictions"
   ]
  },
  {
   "cell_type": "code",
   "execution_count": 13,
   "metadata": {},
   "outputs": [
    {
     "name": "stdout",
     "output_type": "stream",
     "text": [
      "[array([[-0.60518396]], dtype=float32), array([[-0.602267]], dtype=float32), array([[-0.60131633]], dtype=float32), array([[-0.6004112]], dtype=float32), array([[-0.5999981]], dtype=float32), array([[-0.60173106]], dtype=float32), array([[-0.59772956]], dtype=float32)]\n",
      "[-0.60518396]\n",
      "[array(None, dtype=object) array(None, dtype=object)\n",
      " array(None, dtype=object) ... -0.5670302 -0.5666189 -0.56599665]\n"
     ]
    }
   ],
   "source": [
    "# Start making predictions on the test set\n",
    "predicted_output = []\n",
    "i = 0\n",
    "\n",
    "# Loop through the test set in batches\n",
    "while i + batch_size <= len(X_test):\n",
    "    X_batch = X_test[i : i + batch_size]\n",
    "    X_batch = X_batch.reshape((batch_size, window_size, 1))  # Reshape the input batch\n",
    "    output = session.run(y_hat, feed_dict={input: X_batch})\n",
    "    i += batch_size\n",
    "    predicted_output.append(output)\n",
    "print(predicted_output[0])\n",
    "\n",
    "\n",
    "# Flatten the nested list of predicted values\n",
    "predicted_values_test = []\n",
    "for i in range(len(predicted_output)):\n",
    "    for j in range(len(predicted_output[i])):\n",
    "        predicted_values_test.append(predicted_output[i][j][0])\n",
    "print(predicted_values_test[0])\n",
    "\n",
    "\n",
    "\n",
    "predictions = []\n",
    "for i in range(1280):\n",
    "      if i >= 1000:\n",
    "        predictions.append(predicted_values_test[i-1019][0])\n",
    "      else:\n",
    "        predictions.append(np.full(predicted_values_test[0][0].shape, None))\n",
    "predictions = np.array(predictions)\n",
    "print(predictions)\n"
   ]
  },
  {
   "cell_type": "code",
   "execution_count": 14,
   "metadata": {},
   "outputs": [
    {
     "data": {
      "image/png": "[encoded data removed]",
      "text/plain": [
       "<Figure size 1600x700 with 1 Axes>"
      ]
     },
     "metadata": {},
     "output_type": "display_data"
    }
   ],
   "source": [
    "plt.figure(figsize=(16, 7))\n",
    "plt.plot(data, label=\"Actual\")\n",
    "plt.plot(predictions, label=\"Predicted\")\n",
    "plt.legend()\n",
    "plt.xlabel(\"Days\")\n",
    "plt.ylabel(\"Price\")\n",
    "plt.grid()\n",
    "plt.show()"
   ]
  },
  {
   "cell_type": "markdown",
   "metadata": {},
   "source": [
    "<h1>GRU<br>\n",
    "<h5>Define Weights"
   ]
  },
  {
   "cell_type": "code",
   "execution_count": null,
   "metadata": {},
   "outputs": [],
   "source": [
    "vocab_size = 512\n",
    "hidden_size = 64\n",
    "input_size = 128\n",
    "output_size = 10\n",
    "init = tf.initializers.glorot_uniform()\n",
    "\n",
    "\n",
    "# Weights for the update gate\n",
    "Uz = tf.compat.v1.get_variable(\"Uz\", [vocab_size, hidden_size], initializer=init)\n",
    "Wz = tf.compat.v1.get_variable(\"Wz\", [hidden_size, hidden_size], initializer=init)\n",
    "bz = tf.compat.v1.get_variable(\"bz\", [hidden_size], initializer=init)\n",
    "\n",
    "# Weights for the reset gate\n",
    "Ur = tf.compat.v1.get_variable(\"Ur\", [vocab_size, hidden_size], initializer=init)\n",
    "Wr = tf.compat.v1.get_variable(\"Wr\", [hidden_size, hidden_size], initializer=init)\n",
    "br = tf.compat.v1.get_variable(\"br\", [hidden_size], initializer=init)\n",
    "\n",
    "# Weights for the content state\n",
    "Uc = tf.compat.v1.get_variable(\"Uc\", [vocab_size, hidden_size], initializer=init)\n",
    "Wc = tf.compat.v1.get_variable(\"Wc\", [hidden_size, hidden_size], initializer=init)\n",
    "bc = tf.compat.v1.get_variable(\"bc\", [hidden_size], initializer=init)\n",
    "\n",
    "# Weights for the output layer\n",
    "V = tf.compat.v1.get_variable(\"V\", [hidden_size, vocab_size], initializer=init)\n",
    "by = tf.compat.v1.get_variable(\"by\", [vocab_size], initializer=init)"
   ]
  },
  {
   "cell_type": "markdown",
   "metadata": {},
   "source": [
    "<h5> Forward Propagation"
   ]
  },
  {
   "cell_type": "code",
   "execution_count": null,
   "metadata": {},
   "outputs": [],
   "source": [
    "import tensorflow as tf\n",
    "\n",
    "tf.compat.v1.disable_eager_execution()\n",
    "\n",
    "x_t = tf.compat.v1.placeholder(tf.float32, [batch_size, vocab_size])\n",
    "h_t = tf.compat.v1.get_variable(\"h_t\", [batch_size, hidden_size], initializer=init)\n",
    "\n",
    "zt = tf.sigmoid(tf.matmul(x_t, Uz) + tf.matmul(h_t, Wz) + bz)\n",
    "rt = tf.sigmoid(tf.matmul(x_t, Ur) + tf.matmul(h_t, Wr) + br)\n",
    "ct = tf.tanh(tf.matmul(x_t, Uc) + tf.matmul(tf.multiply(rt, h_t), Wc) + bc)\n",
    "h_t = tf.multiply((1 - zt), ct) + tf.multiply(zt, h_t)\n",
    "y_hat_t = tf.matmul(h_t, V) + by\n"
   ]
  },
  {
   "cell_type": "markdown",
   "metadata": {},
   "source": [
    "<h1>Bidrectional RNN"
   ]
  },
  {
   "cell_type": "code",
   "execution_count": null,
   "metadata": {},
   "outputs": [],
   "source": [
    "from tensorflow.compat.v1.nn import rnn_cell, static_bidirectional_rnn\n",
    "\n",
    "num_hidden = 7\n",
    "\n",
    "forward_hidden_layer = rnn_cell.LSTMCell(num_hidden, forget_bias=1.0)\n",
    "\n",
    "backward_hidden_layer = rnn_cell.LSTMCell(num_hidden, forget_bias=1.0)\n",
    "\n",
    "outputs, forward_states, backward_states = rnn_cell.static_bidirectional_rnn(forward_hidden_layer, backward_hidden_layer, input)\n"
   ]
  }
 ],
 "metadata": {
  "language_info": {
   "name": "python"
  }
 },
 "nbformat": 4,
 "nbformat_minor": 2
}
