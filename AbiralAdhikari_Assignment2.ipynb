{
 "cells": [
  {
   "cell_type": "code",
   "execution_count": 1,
   "metadata": {},
   "outputs": [],
   "source": [
    "import tensorflow as tf\n",
    "\n",
    "\n",
    "graph = tf.Graph()\n",
    "\n",
    "\n",
    "with graph.as_default():\n",
    "    hello = tf.constant(\"Hello TensorFlow\")\n",
    "    with tf.compat.v1.Session() as sess:\n",
    "        print(sess.run(hello))"
   ]
  },
  {
   "cell_type": "code",
   "execution_count": 8,
   "metadata": {},
   "outputs": [
    {
     "name": "stdout",
     "output_type": "stream",
     "text": [
      "5\n"
     ]
    }
   ],
   "source": [
    "import tensorflow as tf\n",
    "\n",
    "x = 2\n",
    "y = 3\n",
    "\n",
    "z = tf.add(x, y, name=\"Add\")\n",
    "\n",
    "z_value = z.numpy()\n",
    "print(z_value)"
   ]
  },
  {
   "cell_type": "code",
   "execution_count": 9,
   "metadata": {},
   "outputs": [
    {
     "name": "stdout",
     "output_type": "stream",
     "text": [
      "40\n"
     ]
    }
   ],
   "source": [
    "a = tf.multiply(8, 5)\n",
    "b = tf.multiply(a, 1)\n",
    "\n",
    "b_value = b.numpy()\n",
    "print(b_value)"
   ]
  },
  {
   "cell_type": "code",
   "execution_count": 10,
   "metadata": {},
   "outputs": [
    {
     "name": "stdout",
     "output_type": "stream",
     "text": [
      "12\n"
     ]
    }
   ],
   "source": [
    "a = tf.multiply(8, 5)\n",
    "b = tf.multiply(4, 3)\n",
    "\n",
    "b_value = b.numpy()\n",
    "print(b_value)"
   ]
  },
  {
   "cell_type": "code",
   "execution_count": 11,
   "metadata": {},
   "outputs": [
    {
     "name": "stdout",
     "output_type": "stream",
     "text": [
      "9\n"
     ]
    }
   ],
   "source": [
    "graph = tf.Graph()\n",
    "\n",
    "with graph.as_default():\n",
    "    val = tf.multiply(3, 3)\n",
    "\n",
    "    with tf.compat.v1.Session() as session:\n",
    "        print(session.run(val))"
   ]
  },
  {
   "cell_type": "code",
   "execution_count": 13,
   "metadata": {},
   "outputs": [
    {
     "name": "stdout",
     "output_type": "stream",
     "text": [
      "<tf.Variable 'Variable:0' shape=() dtype=int32, numpy=13>\n",
      "[[ 0.14107606  0.43629068  0.37619492 ...  0.1962083   0.15006424\n",
      "   0.23534477]\n",
      " [ 0.1303095  -0.09229585  0.09278669 ...  0.0470362  -0.25075448\n",
      "  -0.00960788]\n",
      " [ 0.36435005  0.35983106 -0.4004232  ...  0.20639211 -0.15153217\n",
      "   0.22244626]\n",
      " ...\n",
      " [ 0.2629911  -0.09785084  0.17406967 ...  0.0602855  -0.31937712\n",
      "   0.61378646]\n",
      " [-0.22790518  0.2446264  -0.41563493 ... -0.20926593 -0.09963737\n",
      "  -0.04379675]\n",
      " [-0.76142555 -0.07344237  0.2681341  ... -0.02527711  0.3336119\n",
      "  -0.28008288]]\n",
      "22\n"
     ]
    }
   ],
   "source": [
    "x = tf.Variable(13)\n",
    "print(x)\n",
    "\n",
    "y = tf.Variable(tf.random.normal(shape=[500, 111], stddev=0.35), name=\"weights\")\n",
    "y = y.numpy()\n",
    "print(y)\n",
    "\n",
    "weights = tf.Variable(22, name=\"weights_1\")\n",
    "W2 = tf.Variable(weights.read_value(), name=\"weights_2\")\n",
    "W2 = W2.numpy()\n",
    "print(W2)"
   ]
  },
  {
   "cell_type": "code",
   "execution_count": 14,
   "metadata": {},
   "outputs": [
    {
     "name": "stdout",
     "output_type": "stream",
     "text": [
      "1212\n"
     ]
    }
   ],
   "source": [
    "graph = tf.Graph()\n",
    "\n",
    "\n",
    "with graph.as_default():\n",
    "    x = tf.compat.v1.Variable(1212)\n",
    "    init = tf.compat.v1.global_variables_initializer()\n",
    "\n",
    "    with tf.compat.v1.Session() as session:\n",
    "        session.run(init)\n",
    "        print(session.run(x))"
   ]
  },
  {
   "cell_type": "code",
   "execution_count": 16,
   "metadata": {},
   "outputs": [],
   "source": [
    "W3 = tf.compat.v1.get_variable(\n",
    "    name=\"weights\",\n",
    "    shape=[500, 111],\n",
    "    initializer=tf.compat.v1.random_normal_initializer(),\n",
    ")"
   ]
  },
  {
   "cell_type": "code",
   "execution_count": 21,
   "metadata": {},
   "outputs": [
    {
     "name": "stdout",
     "output_type": "stream",
     "text": [
      "scope/x:0\n",
      "scope/x:0\n"
     ]
    }
   ],
   "source": [
    "with tf.compat.v1.variable_scope(\"scope\"):\n",
    "    a = tf.compat.v1.get_variable(\"x\", [2])\n",
    "\n",
    "with tf.compat.v1.variable_scope(\"scope\", reuse=True):\n",
    "    b = tf.compat.v1.get_variable(\"x\", [2])\n",
    "\n",
    "print(a.name)\n",
    "print(b.name)"
   ]
  },
  {
   "cell_type": "code",
   "execution_count": 28,
   "metadata": {},
   "outputs": [
    {
     "name": "stdout",
     "output_type": "stream",
     "text": [
      "Tensor(\"Const_5:0\", shape=(), dtype=int32)\n"
     ]
    }
   ],
   "source": [
    "x = tf.constant(13)\n",
    "print(x)\n"
   ]
  },
  {
   "cell_type": "code",
   "execution_count": 29,
   "metadata": {},
   "outputs": [
    {
     "name": "stdout",
     "output_type": "stream",
     "text": [
      "[[ 4.  5.]\n",
      " [ 6.  7.]\n",
      " [ 8.  9.]\n",
      " [10. 11.]]\n"
     ]
    }
   ],
   "source": [
    "tf.compat.v1.disable_eager_execution()\n",
    "x = tf.compat.v1.placeholder(\"float\", [None, 2])\n",
    "y = x + 3\n",
    "\n",
    "with tf.compat.v1.Session() as sess:\n",
    "    x_val = [\n",
    "        [1, 2],\n",
    "        [3, 4],\n",
    "        [5, 6],\n",
    "        [7, 8],\n",
    "    ]\n",
    "    result = sess.run(y, feed_dict={x: x_val})\n",
    "    print(result)"
   ]
  },
  {
   "cell_type": "code",
   "execution_count": 30,
   "metadata": {},
   "outputs": [
    {
     "name": "stdout",
     "output_type": "stream",
     "text": [
      "WARNING:tensorflow:From C:\\Users\\hp\\AppData\\Local\\Temp\\ipykernel_9168\\4250927850.py:14: The name tf.summary.FileWriter is deprecated. Please use tf.compat.v1.summary.FileWriter instead.\n",
      "\n"
     ]
    },
    {
     "name": "stderr",
     "output_type": "stream",
     "text": [
      "WARNING:tensorflow:From C:\\Users\\hp\\AppData\\Local\\Temp\\ipykernel_9168\\4250927850.py:14: The name tf.summary.FileWriter is deprecated. Please use tf.compat.v1.summary.FileWriter instead.\n",
      "\n"
     ]
    },
    {
     "name": "stdout",
     "output_type": "stream",
     "text": [
      "10\n"
     ]
    }
   ],
   "source": [
    "# TensorBoard\n",
    "\n",
    "x = tf.constant(1, name=\"x\")\n",
    "y = tf.constant(1, name=\"y\")\n",
    "a = tf.constant(3, name=\"a\")\n",
    "b = tf.constant(3, name=\"b\")\n",
    "\n",
    "prod1 = tf.multiply(x, y, name=\"prod1\")\n",
    "prod2 = tf.multiply(a, b, name=\"prod2\")\n",
    "\n",
    "sum = tf.add(prod1, prod2, name=\"sum\")\n",
    "\n",
    "with tf.compat.v1.Session() as sess:\n",
    "    writer = tf.compat.v1.summary.FileWriter(logdir=\"./graphs\", graph=sess.graph)\n",
    "    print(sess.run(sum))\n",
    "    \n",
    "    "
   ]
  },
  {
   "cell_type": "code",
   "execution_count": 31,
   "metadata": {},
   "outputs": [
    {
     "name": "stderr",
     "output_type": "stream",
     "text": [
      "UsageError: Line magic function `%tensorboard` not found.\n"
     ]
    }
   ],
   "source": [
    "%tensorboard --logdir=graphs --port=8001"
   ]
  },
  {
   "cell_type": "markdown",
   "metadata": {},
   "source": [
    "# Handwritten digits classification using TensorFlow"
   ]
  },
  {
   "cell_type": "code",
   "execution_count": null,
   "metadata": {},
   "outputs": [],
   "source": []
  },
  {
   "cell_type": "code",
   "execution_count": 40,
   "metadata": {},
   "outputs": [
    {
     "name": "stdout",
     "output_type": "stream",
     "text": [
      "Downloading data from https://storage.googleapis.com/tensorflow/tf-keras-datasets/mnist.npz\n",
      "11490434/11490434 [==============================] - 6s 1us/step\n",
      "No of images in training set: (60000, 28, 28)\n",
      "No of labels in training set: (60000,)\n",
      "No of images in test set: (10000, 28, 28)\n",
      "No of labels in test set: (10000,)\n"
     ]
    },
    {
     "data": {
      "image/png": "[encoded data removed]",
      "text/plain": [
       "<Figure size 640x480 with 1 Axes>"
      ]
     },
     "metadata": {},
     "output_type": "display_data"
    }
   ],
   "source": [
    "import warnings\n",
    "warnings.filterwarnings('ignore')\n",
    "import tensorflow as tf\n",
    "import matplotlib.pyplot as plt\n",
    "\n",
    "\n",
    "# Load the MNIST dataset\n",
    "mnist = tf.keras.datasets.mnist\n",
    "(train_images, train_labels), (test_images, test_labels) = mnist.load_data()\n",
    "\n",
    "# Normalize the images to a range of 0 to 1\n",
    "train_images = train_images.astype('float32') / 255.0\n",
    "test_images = test_images.astype('float32') / 255.0\n",
    "\n",
    "# Check the shape of the datasets\n",
    "print(\"No of images in training set: {}\".format(train_images.shape))\n",
    "print(\"No of labels in training set: {}\".format(train_labels.shape))\n",
    "print(\"No of images in test set: {}\".format(test_images.shape))\n",
    "print(\"No of labels in test set: {}\".format(test_labels.shape))\n",
    "# Display the first training image\n",
    "\n",
    "img1 = train_images[1].reshape(28,28)\n",
    "plt.imshow(img1, cmap='Greys')\n",
    "plt.show()\n",
    "\n",
    "\n",
    "\n"
   ]
  },
  {
   "cell_type": "code",
   "execution_count": null,
   "metadata": {},
   "outputs": [],
   "source": []
  },
  {
   "cell_type": "code",
   "execution_count": 3,
   "metadata": {},
   "outputs": [
    {
     "name": "stdout",
     "output_type": "stream",
     "text": [
      "Epoch 1/10\n",
      "300/300 [==============================] - 21s 69ms/step - loss: 0.9804 - accuracy: 0.7535 - val_loss: 0.3879 - val_accuracy: 0.8974\n",
      "Epoch 2/10\n",
      "300/300 [==============================] - 18s 59ms/step - loss: 0.3623 - accuracy: 0.8993 - val_loss: 0.2815 - val_accuracy: 0.9195\n",
      "Epoch 3/10\n",
      "300/300 [==============================] - 20s 66ms/step - loss: 0.2753 - accuracy: 0.9205 - val_loss: 0.2419 - val_accuracy: 0.9307\n",
      "Epoch 4/10\n",
      "300/300 [==============================] - 18s 61ms/step - loss: 0.2432 - accuracy: 0.9292 - val_loss: 0.2233 - val_accuracy: 0.9337\n",
      "Epoch 5/10\n",
      "300/300 [==============================] - 17s 57ms/step - loss: 0.2109 - accuracy: 0.9396 - val_loss: 0.1905 - val_accuracy: 0.9445\n",
      "Epoch 6/10\n",
      "300/300 [==============================] - 16s 54ms/step - loss: 0.2048 - accuracy: 0.9418 - val_loss: 0.1720 - val_accuracy: 0.9504\n",
      "Epoch 7/10\n",
      "300/300 [==============================] - 17s 58ms/step - loss: 0.1754 - accuracy: 0.9496 - val_loss: 0.1826 - val_accuracy: 0.9463\n",
      "Epoch 8/10\n",
      "300/300 [==============================] - 18s 62ms/step - loss: 0.1697 - accuracy: 0.9522 - val_loss: 0.1553 - val_accuracy: 0.9532\n",
      "Epoch 9/10\n",
      "300/300 [==============================] - 19s 65ms/step - loss: 0.1496 - accuracy: 0.9561 - val_loss: 0.1463 - val_accuracy: 0.9567\n",
      "Epoch 10/10\n",
      "300/300 [==============================] - 18s 59ms/step - loss: 0.1433 - accuracy: 0.9596 - val_loss: 0.1459 - val_accuracy: 0.9556\n",
      "313/313 [==============================] - 4s 12ms/step - loss: 0.1459 - accuracy: 0.9556\n",
      "\n",
      "Test accuracy: 0.9556\n"
     ]
    }
   ],
   "source": [
    "import tensorflow as tf\n",
    "from tensorflow.keras import layers, models\n",
    "from tensorflow.keras.losses import SparseCategoricalCrossentropy\n",
    "from tensorflow.keras.optimizers import Adam\n",
    "import matplotlib.pyplot as plt\n",
    "tf.config.run_functions_eagerly(True)\n",
    "\n",
    "# forward and backward propagation is automatically done in keras tensorflow. So it is not done manually. \n",
    "# Load the MNIST dataset\n",
    "mnist = tf.keras.datasets.mnist\n",
    "(train_images, train_labels), (test_images, test_labels) = mnist.load_data()\n",
    "\n",
    "# Normalize the images\n",
    "train_images = train_images.astype('float32') / 255.0\n",
    "test_images = test_images.astype('float32') / 255.0\n",
    "\n",
    "# Define the number of neurons in each layer\n",
    "num_input = 784\n",
    "num_hidden1 = 512\n",
    "num_hidden2 = 256\n",
    "num_hidden3 = 128\n",
    "num_output = 10\n",
    "\n",
    "# Build the model\n",
    "model = models.Sequential()\n",
    "model.add(layers.Flatten(input_shape=(28, 28)))  # Flatten the input images\n",
    "model.add(layers.Dense(num_hidden1, activation='relu', kernel_initializer='truncated_normal'))\n",
    "model.add(layers.Dense(num_hidden2, activation='relu', kernel_initializer='truncated_normal'))\n",
    "model.add(layers.Dense(num_hidden3, activation='relu', kernel_initializer='truncated_normal'))\n",
    "model.add(layers.Dense(num_output, activation='sigmoid'))  # Output layer with softmax\n",
    "\n",
    "# Compile the model\n",
    "model.compile(optimizer=Adam(learning_rate=1e-4),\n",
    "              loss=SparseCategoricalCrossentropy(),\n",
    "              metrics=['accuracy'])\n",
    "\n",
    "# Create a log directory for TensorBoard\n",
    "log_dir = \"logs/fit/\"\n",
    "tensorboard_callback = tf.keras.callbacks.TensorBoard(log_dir, histogram_freq=1)\n",
    "\n",
    "# Custom callback for logging test metrics\n",
    "class CustomLoggingCallback(tf.keras.callbacks.Callback):\n",
    "    def on_epoch_end(self, epoch, logs=None):\n",
    "        # Evaluate the model on the test set\n",
    "        test_loss, test_accuracy = model.evaluate(test_images, test_labels, verbose=0)\n",
    "        \n",
    "        # Log the test metrics\n",
    "        tf.summary.scalar(\"Test Accuracy\", test_accuracy, step=epoch)\n",
    "        tf.summary.scalar(\"Test Loss\", test_loss, step=epoch)\n",
    "\n",
    "# Train the model\n",
    "model.fit(train_images, train_labels, epochs=10, batch_size=32, validation_data=(test_images, test_labels), steps_per_epoch=300)\n",
    "\n",
    "# Evaluate the model\n",
    "test_loss, test_accuracy = model.evaluate(test_images, test_labels)\n",
    "print(f'\\nTest accuracy: {test_accuracy:.4f}')\n",
    "\n",
    "\n",
    "\n",
    "\n"
   ]
  },
  {
   "cell_type": "code",
   "execution_count": null,
   "metadata": {},
   "outputs": [],
   "source": []
  },
  {
   "cell_type": "code",
   "execution_count": null,
   "metadata": {},
   "outputs": [],
   "source": [
    "\n",
    "\n",
    "#Eager Execution is directly implemented here in tensorflow 2.0\n",
    "\n",
    "x = tf.constant(11)\n",
    "y = tf.constant(11)\n",
    "z = x*y\n",
    "print(z)\n",
    "z.numpy()"
   ]
  },
  {
   "cell_type": "code",
   "execution_count": 4,
   "metadata": {},
   "outputs": [
    {
     "name": "stdout",
     "output_type": "stream",
     "text": [
      "\n",
      "Sum: [4. 4. 4.]\n",
      "\n",
      "Difference: [-2.  0.  2.]\n",
      "\n",
      "Product: [3. 4. 3.]\n",
      "\n",
      "Division: [0.33333334 1.         3.        ]\n",
      "\n",
      "Dot Product: 10.0\n",
      "\n",
      "Index of minimum: 1\n",
      "\n",
      "Index of maximum: 2\n",
      "\n",
      "Squared difference: [  0   4  16  36 100]\n",
      "\n",
      "Original dtype of x_var: <dtype: 'int32'>\n",
      "\n",
      "New dtype of x_var: <dtype: 'float32'>\n",
      "\n",
      "Sum: [4. 4. 4.]\n",
      "\n",
      "Difference: [-2.  0.  2.]\n",
      "\n",
      "Product: [3. 4. 3.]\n",
      "\n",
      "Division: [0.33333334 1.         3.        ]\n",
      "\n",
      "Dot Product: 10.0\n",
      "\n",
      "Index of minimum: 1\n",
      "\n",
      "Index of maximum: 2\n",
      "\n",
      "Squared difference: [  0   4  16  36 100]\n",
      "\n",
      "Original dtype of x_var: <dtype: 'int32'>\n",
      "\n",
      "New dtype of x_var: <dtype: 'float32'>\n",
      "\n",
      "Concatenated Row-wise:\n",
      " [[3 6 9]\n",
      " [7 7 7]\n",
      " [4 5 6]\n",
      " [5 5 5]]\n",
      "\n",
      "Concatenated Column-wise:\n",
      " [[3 6 9 4 5 6]\n",
      " [7 7 7 5 5 5]]\n",
      "\n",
      "Stacked:\n",
      " [[3 7]\n",
      " [6 7]\n",
      " [9 7]]\n",
      "\n",
      "Mean of x: 2.75\n",
      "\n",
      "Mean across rows: [1.5 4. ]\n",
      "\n",
      "Mean across columns: [[3. ]\n",
      " [2.5]]\n",
      "\n",
      "Random Normal:\n",
      " [[ 7.562291 11.78431 ]\n",
      " [10.549743  8.480796]\n",
      " [ 8.059488 11.451664]]\n",
      "\n",
      "Random Uniform:\n",
      " [[0.49796402 0.641899  ]\n",
      " [0.38124442 0.8763828 ]\n",
      " [0.673524   0.45971298]]\n",
      "\n",
      "Softmax probabilities: [0.8756006  0.00589975 0.11849965]\n",
      "\n",
      "Square of 6: 36.0\n",
      "\n",
      "Concatenated Column-wise:\n",
      " [[3 6 9 4 5 6]\n",
      " [7 7 7 5 5 5]]\n",
      "\n",
      "Stacked:\n",
      " [[3 7]\n",
      " [6 7]\n",
      " [9 7]]\n",
      "\n",
      "Mean of x: 2.75\n",
      "\n",
      "Mean across rows: [1.5 4. ]\n",
      "Mean across columns: [[3. ]\n",
      " [2.5]]\n",
      "\n",
      "Random Normal:\n",
      " [[ 8.898783   7.4529724]\n",
      " [ 6.855311  12.260334 ]\n",
      " [ 8.779578   8.497919 ]]\n",
      "\n",
      "Random Uniform:\n",
      " [[0.37444246 0.34443772]\n",
      " [0.05849326 0.8929701 ]\n",
      " [0.14037323 0.759094  ]]\n",
      "\n",
      "Softmax probabilities: [0.8756006  0.00589975 0.11849965]\n",
      "\n",
      "Square of 6: 36.0\n"
     ]
    }
   ],
   "source": [
    "import tensorflow as tf\n",
    "\n",
    "\n",
    "x = tf.constant([1.0, 2.0, 3.0])\n",
    "y = tf.constant([3.0, 2.0, 1.0])\n",
    "\n",
    "\n",
    "sum_result = tf.add(x, y)\n",
    "print(\"\\nSum:\", sum_result.numpy())\n",
    "\n",
    "difference = tf.subtract(x, y)\n",
    "print(\"\\nDifference:\", difference.numpy())\n",
    "\n",
    "\n",
    "product = tf.multiply(x, y)\n",
    "print(\"\\nProduct:\", product.numpy())\n",
    "\n",
    "\n",
    "division = tf.divide(x, y)\n",
    "print(\"\\nDivision:\", division.numpy())\n",
    "\n",
    "\n",
    "dot_product = tf.reduce_sum(tf.multiply(x, y))\n",
    "print(\"\\nDot Product:\", dot_product.numpy())\n",
    "\n",
    "\n",
    "x_min = tf.constant([10, 0, 13, 9])\n",
    "print(\"\\nIndex of minimum:\", tf.argmin(x_min).numpy())\n",
    "print(\"\\nIndex of maximum:\", tf.argmax(x_min).numpy())\n",
    "\n",
    "\n",
    "x_var = tf.Variable([1, 3, 5, 7, 11])\n",
    "y_var = tf.Variable([1])\n",
    "squared_diff = tf.math.squared_difference(x_var, y_var)\n",
    "print(\"\\nSquared difference:\", squared_diff.numpy())\n",
    "\n",
    "\n",
    "print(\"\\nOriginal dtype of x_var:\", x_var.dtype)\n",
    "x_var = tf.cast(x_var, dtype=tf.float32)\n",
    "print(\"\\nNew dtype of x_var:\", x_var.dtype)\n",
    "\n",
    "\n",
    "x_matrix = [[3, 6, 9], [7, 7, 7]]\n",
    "y_matrix = [[4, 5, 6], [5, 5, 5]]\n",
    "concat_rows = tf.concat([x_matrix, y_matrix], 0)\n",
    "\n",
    "\n",
    "x = tf.constant([1.0, 2.0, 3.0])\n",
    "y = tf.constant([3.0, 2.0, 1.0])\n",
    "\n",
    "\n",
    "sum_result = tf.add(x, y)\n",
    "print(\"\\nSum:\", sum_result.numpy())\n",
    "\n",
    "\n",
    "difference = tf.subtract(x, y)\n",
    "print(\"\\nDifference:\", difference.numpy())\n",
    "\n",
    "\n",
    "product = tf.multiply(x, y)\n",
    "print(\"\\nProduct:\", product.numpy())\n",
    "\n",
    "\n",
    "division = tf.divide(x, y)\n",
    "print(\"\\nDivision:\", division.numpy())\n",
    "\n",
    "\n",
    "dot_product = tf.reduce_sum(tf.multiply(x, y))\n",
    "print(\"\\nDot Product:\", dot_product.numpy())\n",
    "\n",
    "\n",
    "x_min = tf.constant([10, 0, 13, 9])\n",
    "print(\"\\nIndex of minimum:\", tf.argmin(x_min).numpy())\n",
    "print(\"\\nIndex of maximum:\", tf.argmax(x_min).numpy())\n",
    "\n",
    "\n",
    "x_var = tf.Variable([1, 3, 5, 7, 11])\n",
    "y_var = tf.Variable([1])\n",
    "squared_diff = tf.math.squared_difference(x_var, y_var)\n",
    "print(\"\\nSquared difference:\", squared_diff.numpy())\n",
    "\n",
    "print(\"\\nOriginal dtype of x_var:\", x_var.dtype)\n",
    "x_var = tf.cast(x_var, dtype=tf.float32)\n",
    "print(\"\\nNew dtype of x_var:\", x_var.dtype)\n",
    "\n",
    "\n",
    "x_matrix = [[3, 6, 9], [7, 7, 7]]\n",
    "y_matrix = [[4, 5, 6], [5, 5, 5]]\n",
    "concat_rows = tf.concat([x_matrix, y_matrix], 0)\n",
    "print(\"\\nConcatenated Row-wise:\\n\", concat_rows.numpy())\n",
    "\n",
    "concat_columns = tf.concat([x_matrix, y_matrix], 1)\n",
    "print(\"\\nConcatenated Column-wise:\\n\", concat_columns.numpy())\n",
    "\n",
    "\n",
    "stacked = tf.stack(x_matrix, axis=1)\n",
    "print(\"\\nStacked:\\n\", stacked.numpy())\n",
    "\n",
    "\n",
    "x_mean = tf.Variable([[1.0, 5.0], [2.0, 3.0]])\n",
    "print(\"\\nMean of x:\", tf.reduce_mean(input_tensor=x_mean).numpy())\n",
    "print(\"\\nMean across rows:\", tf.reduce_mean(input_tensor=x_mean, axis=0).numpy())\n",
    "print(\n",
    "    \"\\nMean across columns:\",\n",
    "    tf.reduce_mean(input_tensor=x_mean, axis=1, keepdims=True).numpy(),\n",
    ")\n",
    "\n",
    "\n",
    "random_normal = tf.random.normal(shape=(3, 2), mean=10.0, stddev=2.0)\n",
    "print(\"\\nRandom Normal:\\n\", random_normal.numpy())\n",
    "\n",
    "random_uniform = tf.random.uniform(\n",
    "    shape=(3, 2), minval=0, maxval=None, dtype=tf.float32\n",
    ")\n",
    "print(\"\\nRandom Uniform:\\n\", random_uniform.numpy())\n",
    "\n",
    "\n",
    "softmax_input = tf.constant([7.0, 2.0, 5.0])\n",
    "softmax_result = tf.nn.softmax(softmax_input)\n",
    "print(\"\\nSoftmax probabilities:\", softmax_result.numpy())\n",
    "\n",
    "\n",
    "def square(x):\n",
    "    return tf.multiply(x, x)\n",
    "\n",
    "\n",
    "with tf.GradientTape(persistent=True) as tape:\n",
    "    result = square(6.0)\n",
    "    print(\"\\nSquare of 6:\", result.numpy())\n",
    "(\"Concatenated Row-wise:\\n\", concat_rows.numpy())\n",
    "\n",
    "concat_columns = tf.concat([x_matrix, y_matrix], 1)\n",
    "print(\"\\nConcatenated Column-wise:\\n\", concat_columns.numpy())\n",
    "\n",
    "\n",
    "stacked = tf.stack(x_matrix, axis=1)\n",
    "print(\"\\nStacked:\\n\", stacked.numpy())\n",
    "\n",
    "\n",
    "x_mean = tf.Variable([[1.0, 5.0], [2.0, 3.0]])\n",
    "print(\"\\nMean of x:\", tf.reduce_mean(input_tensor=x_mean).numpy())\n",
    "print(\"\\nMean across rows:\", tf.reduce_mean(input_tensor=x_mean, axis=0).numpy())\n",
    "print(\n",
    "    \"Mean across columns:\",\n",
    "    tf.reduce_mean(input_tensor=x_mean, axis=1, keepdims=True).numpy(),\n",
    ")\n",
    "\n",
    "\n",
    "random_normal = tf.random.normal(shape=(3, 2), mean=10.0, stddev=2.0)\n",
    "print(\"\\nRandom Normal:\\n\", random_normal.numpy())\n",
    "\n",
    "random_uniform = tf.random.uniform(\n",
    "    shape=(3, 2), minval=0, maxval=None, dtype=tf.float32\n",
    ")\n",
    "print(\"\\nRandom Uniform:\\n\", random_uniform.numpy())\n",
    "\n",
    "\n",
    "softmax_input = tf.constant([7.0, 2.0, 5.0])\n",
    "softmax_result = tf.nn.softmax(softmax_input)\n",
    "print(\"\\nSoftmax probabilities:\", softmax_result.numpy())\n",
    "\n",
    "\n",
    "def square(x):\n",
    "    return tf.multiply(x, x)\n",
    "\n",
    "\n",
    "with tf.GradientTape(persistent=True) as tape:\n",
    "    result = square(6.0)\n",
    "    print(\"\\nSquare of 6:\", result.numpy())4=-=="
   ]
  },
  {
   "cell_type": "markdown",
   "metadata": {},
   "source": []
  }
 ],
 "metadata": {
  "kernelspec": {
   "display_name": "Python 3",
   "language": "python",
   "name": "python3"
  },
  "language_info": {
   "codemirror_mode": {
    "name": "ipython",
    "version": 3
   },
   "file_extension": ".py",
   "mimetype": "text/x-python",
   "name": "python",
   "nbconvert_exporter": "python",
   "pygments_lexer": "ipython3",
   "version": "3.11.9"
  }
 },
 "nbformat": 4,
 "nbformat_minor": 2
}
